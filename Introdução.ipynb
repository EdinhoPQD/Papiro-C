{
  "nbformat": 4,
  "nbformat_minor": 0,
  "metadata": {
    "colab": {
      "provenance": [],
      "include_colab_link": true
    },
    "kernelspec": {
      "name": "python3",
      "display_name": "Python 3"
    },
    "language_info": {
      "name": "python"
    }
  },
  "cells": [
    {
      "cell_type": "markdown",
      "metadata": {
        "id": "view-in-github",
        "colab_type": "text"
      },
      "source": [
        "<a href=\"https://colab.research.google.com/github/EdinhoPQD/Papiro-C/blob/main/Introdu%C3%A7%C3%A3o.ipynb\" target=\"_parent\"><img src=\"https://colab.research.google.com/assets/colab-badge.svg\" alt=\"Open In Colab\"/></a>"
      ]
    },
    {
      "cell_type": "markdown",
      "source": [
        "#Etapas na solução de 1 problema"
      ],
      "metadata": {
        "id": "Grh0pkgTeEHG"
      }
    },
    {
      "cell_type": "markdown",
      "source": [
        "1. Definição do Problema;\n",
        "2. Modelagem Matemática.\n",
        "3. Solução Numérica\n",
        "4. Análise dos resultados"
      ],
      "metadata": {
        "id": "JfRsfp0beRlz"
      }
    },
    {
      "cell_type": "markdown",
      "source": [
        "## Definição do Problema"
      ],
      "metadata": {
        "id": "w_9jAW3RevL8"
      }
    },
    {
      "cell_type": "markdown",
      "source": [
        "**Problema**:\n",
        "\n",
        "Em uma oficina mecânica, um técnico corta uma folha de metal retangular de 2 metros por 3 metros em\n",
        "duas peças triangulares iguais. Qual é a medida da diagonal de cada triângulo? podem estes\n",
        "peças sejam ligeiramente modificadas para que as diagonais sejam exatamente 3,6 metros?"
      ],
      "metadata": {
        "id": "YXM_HSIse1i-"
      }
    },
    {
      "cell_type": "markdown",
      "source": [
        "$$2^2 +3^2 = d^2 $$\n",
        "\n",
        "$$ d = \\sqrt{4 + 9 } = \\sqrt{13} $$\n",
        "\n",
        "Gostaria de resolver esse cálculo usando somente as 4 operações aritméticas, ou seja calcular $$ \\sqrt{n}, \\;\\;\\; n > 0 $$\n"
      ],
      "metadata": {
        "id": "ItvFsMqzfitR"
      }
    },
    {
      "cell_type": "markdown",
      "source": [
        "## Modelagem Matemática"
      ],
      "metadata": {
        "id": "w5Vq4zJ4hEcw"
      }
    },
    {
      "cell_type": "markdown",
      "source": [
        "$$ x =\\sqrt{n}$$\n",
        "\n",
        "$$f(x) = x² -n =0$$"
      ],
      "metadata": {
        "id": "81YEzqgNVI_Z"
      }
    },
    {
      "cell_type": "markdown",
      "source": [
        "## Solução Numérica"
      ],
      "metadata": {
        "id": "NibAuHkfVmuh"
      }
    },
    {
      "cell_type": "markdown",
      "source": [
        "1. Elaboração do algoritmo;\n",
        "2. codificação do programa; e\n",
        "3. processamento do programa"
      ],
      "metadata": {
        "id": "DcOqjBxsVthy"
      }
    },
    {
      "cell_type": "code",
      "source": [
        "def calcular_raiz_quadrada(n, iteracoes=10):\n",
        "    x = n  # Aproximação inicial, pode ser o próprio n ou qualquer outro valor\n",
        "    for i in range(iteracoes):\n",
        "        x = 0.5 * (x + n / x)\n",
        "        print(f\"Iteração {i + 1}: {x:.4f}\")\n",
        "    return x\n",
        "\n",
        "def main():\n",
        "    n = float(input(\"Digite o número para calcular a raiz quadrada: \"))\n",
        "    if n <= 0:\n",
        "        print(\"Por favor, insira um número positivo maior que zero.\")\n",
        "    else:\n",
        "        iteracoes = 10  # Número de iterações para maior precisão (pode ser ajustado)\n",
        "        print(\"Aproximação das raízes em cada iteração:\")\n",
        "        resultado = calcular_raiz_quadrada(n, iteracoes)\n",
        "        print(f\"A raiz quadrada de {n} é aproximadamente: {resultado:.4f}\")\n",
        "\n",
        "if __name__ == \"__main__\":\n",
        "    main()\n"
      ],
      "metadata": {
        "id": "tdDcIpYGfW88"
      },
      "execution_count": null,
      "outputs": []
    },
    {
      "cell_type": "markdown",
      "source": [
        "\n",
        "\n",
        "```python\n",
        "def calcular_raiz_quadrada(n, iteracoes=10):\n",
        "    x = n  # Aproximação inicial, pode ser o próprio n ou qualquer outro valor\n",
        "```\n",
        "- A função `calcular_raiz_quadrada` é definida com dois parâmetros: `n` e `iteracoes`, sendo `n` o número para o qual queremos calcular a raiz quadrada e `iteracoes` o número de iterações para maior precisão (valor padrão é 10).\n",
        "- A variável `x` é inicializada com o valor de `n`. Essa variável representa a aproximação atual da raiz quadrada.\n",
        "\n",
        "```python\n",
        "    for i in range(iteracoes):\n",
        "```\n",
        "- Inicia-se um loop `for` que irá iterar `iteracoes` vezes. Isso permitirá que o  processo babilônico realize várias iterações para se aproximar da raiz quadrada.\n",
        "\n",
        "```python\n",
        "        x = 0.5 * (x + n / x)\n",
        "```\n",
        "- Nesta linha, atualizamos a variável `x` com o resultado do próximo palpite para a raiz quadrada.\n",
        "- A fórmula utilizada é a do  processo babilônico para a raiz quadrada:$$ x_{k+1} = \\frac{1}{2} \\left( x_k + \\frac{n}{x_k} \\right).$$\n",
        "- Na primeira iteração, `x` contém a aproximação inicial, e a cada iteração subsequente, `x` é atualizado com um valor mais próximo da raiz real.\n",
        "\n",
        "```python\n",
        "        print(f\"Iteração {i + 1}: {x:.4f}\")\n",
        "```\n",
        "- Nesta linha, usamos `print()` para exibir a iteração atual e a aproximação da raiz quadrada em cada passo do loop.\n",
        "- A f-string `f\"Iteração {i + 1}: {x:.4f}\"` formata a saída com 4 casas decimais após o ponto.\n",
        "\n",
        "```python\n",
        "    return x\n",
        "```\n",
        "- Após todas as iterações, a função retorna o valor final de `x`, que é a aproximação da raiz quadrada do número `n`.\n",
        "\n",
        "```python\n",
        "def main():\n",
        "    n = float(input(\"Digite o número para calcular a raiz quadrada: \"))\n",
        "    if n <= 0:\n",
        "        print(\"Por favor, insira um número positivo maior que zero.\")\n",
        "    else:\n",
        "        iteracoes = 10  # Número de iterações para maior precisão (pode ser ajustado)\n",
        "        print(\"Aproximação das raízes em cada iteração:\")\n",
        "        resultado = calcular_raiz_quadrada(n, iteracoes)\n",
        "        print(f\"A raiz quadrada de {n} é aproximadamente: {resultado:.4f}\")\n",
        "```\n",
        "- A função `main()` é definida, e é aqui que todo o programa é executado.\n",
        "- O usuário é solicitado a inserir um número para calcular a raiz quadrada.\n",
        "- Se o número fornecido for negativo ou zero, uma mensagem de erro é exibida.\n",
        "- Caso contrário, a variável `iteracoes` é definida como 10 (você pode ajustar esse valor para obter maior precisão).\n",
        "- O programa então chama a função `calcular_raiz_quadrada()` passando o número e o número de iterações como argumentos.\n",
        "- O resultado retornado é armazenado na variável `resultado`.\n",
        "- Em seguida, o programa exibe todas as iterações e o resultado final com 4 casas decimais após o ponto.\n",
        "\n",
        "```python\n",
        "if __name__ == \"__main__\":\n",
        "    main()\n",
        "```\n",
        "- Por fim, esta linha verifica se o programa está sendo executado como um script principal (não como um módulo importado). Se for o caso, a função `main()` é chamada, e o programa é iniciado. Isso permite que você use o código em outros scripts sem executá-lo automaticamente ao importá-lo."
      ],
      "metadata": {
        "id": "-Y-A8m5qY_ji"
      }
    },
    {
      "cell_type": "markdown",
      "source": [
        "## Análise resultados"
      ],
      "metadata": {
        "id": "yjcamM57ZHTS"
      }
    },
    {
      "cell_type": "markdown",
      "source": [
        "1. Adequação da solução numérica\n",
        "2. Produziu resultado sem sentido físico: tempo negativo, distância euclidina complexa.."
      ],
      "metadata": {
        "id": "6uybRNwhaJHu"
      }
    },
    {
      "cell_type": "markdown",
      "source": [
        "#RECURSOS DO PYTHON: PROGRAMAÇÃO E BIBLIOTECAS"
      ],
      "metadata": {
        "id": "JJiwwfRXcJ6u"
      }
    },
    {
      "cell_type": "markdown",
      "source": [
        "Faremos um programa Python para avaliar uma fórmula simples. Portanto ,nosso primeiro exemplo diz respeito à programação de um modelo matemático que calcula a altura de uma objeto atirada na direção vertical partindo de uma altura inicial igual a zero. Da 2ª lei de Newton, e ao assumir uma resistência do ar desprezível, obtemos um modelo matemático que determina a posição vertical y da bola no tempo t:\n",
        "$$ y= v_0t + \\dfrac{1}{2}gt^2,$$\n",
        "\n",
        "onde $v_0$ é a velocidade inicial da bola e $g$ é aceleração da gravidade no local, que pode ser aproximado por $10 \\;m/s^2$\n",
        "Para obter a altura ao decorrer do tempo, precisamos saber da velocidade de inicial, para o nosso exemplo será de $5\\;m/s$"
      ],
      "metadata": {
        "id": "FT2UUJMYkrfr"
      }
    },
    {
      "cell_type": "code",
      "source": [
        "v0=5 #Velocidade inicial\n",
        "g=10 #aceleração da gravidade\n",
        "t=1 #tempo\n",
        "y= v0*t - 0.5*g*t**2\n",
        "print(y)"
      ],
      "metadata": {
        "colab": {
          "base_uri": "https://localhost:8080/"
        },
        "id": "9JOpjlqqlvS2",
        "outputId": "8a487b8e-ae91-4cc4-b585-ff7a4c50215b"
      },
      "execution_count": null,
      "outputs": [
        {
          "output_type": "stream",
          "name": "stdout",
          "text": [
            "0.0\n"
          ]
        }
      ]
    },
    {
      "cell_type": "markdown",
      "source": [
        "## Operadores **aritméticos**"
      ],
      "metadata": {
        "id": "65o3o5c8mNFY"
      }
    },
    {
      "cell_type": "markdown",
      "source": [
        "Operador | Descrição\n",
        "---------|----------\n",
        "$+$ | Adição\n",
        "$-$  | Subtração\n",
        "$*$ | Multiplicação\n",
        "$**$ | Exponenciação"
      ],
      "metadata": {
        "id": "GMmERhIemSfp"
      }
    },
    {
      "cell_type": "markdown",
      "source": [
        "##Expressões Booleanas"
      ],
      "metadata": {
        "id": "ltodZ9Ow2kEf"
      }
    },
    {
      "cell_type": "markdown",
      "source": [
        "|  \t\t\t\t\t\tOperador \t\t\t\t\t |  \t\t\t\t\t\tDescrição \t\t\t\t\t        |\n",
        "|------------|--------------------|\n",
        "|  \t\t\t\t\t\t< \t\t\t\t\t        |  \t\t\t\t\t\tMenor \t\t\t\t\t\tque \t\t\t\t\t        |\n",
        "|  \t\t\t\t\t\t> \t\t\t\t\t        |  \t\t\t\t\t\tMaior \t\t\t\t\t\tque \t\t\t\t\t        |\n",
        "|  \t\t\t\t\t\t<= \t\t\t\t\t       |  \t\t\t\t\t\tMenor \t\t\t\t\t\tou igual a \t\t\t\t\t |\n",
        "|  \t\t\t\t\t\t>= \t\t\t\t\t       |  \t\t\t\t\t\tMaior \t\t\t\t\t\tou igual a \t\t\t\t\t |\n",
        "|  \t\t\t\t\t\t== \t\t\t\t\t       |  \t\t\t\t\t\tIgual \t\t\t\t\t\ta \t\t\t\t\t          |\n",
        "|  \t\t\t\t\t\t!= \t\t\t\t\t       |  \t\t\t\t\t\tDiferente \t\t\t\t\t\t \t\t\t\t\t\t \t\t\t\t\t      |"
      ],
      "metadata": {
        "id": "yojOCerx2u9g"
      }
    },
    {
      "cell_type": "markdown",
      "source": [
        "##Strings"
      ],
      "metadata": {
        "id": "NCXAjXon5_rW"
      }
    },
    {
      "cell_type": "markdown",
      "source": [
        "1.O Python usa a tabela de caracteres que depende do seu sistema operacional, como por exemplo ASCII e UTF-8.\n",
        "\n",
        "2.Os caracteres são não imprimíveis podem ser expressos coma “barra-invertida” (\\), segue alguns exeplos:\n",
        "\n",
        "\n",
        "*  \\n siginifica que será criado uma nova linha\n",
        "*   \\t é cridado uma tabulação\n",
        "* \\b é uma backspace\n",
        "\n"
      ],
      "metadata": {
        "id": "nC04JDGD6FRv"
      }
    },
    {
      "cell_type": "code",
      "source": [
        "print(\"abc\\nd\")"
      ],
      "metadata": {
        "colab": {
          "base_uri": "https://localhost:8080/"
        },
        "id": "Kn9dYk1o5_OI",
        "outputId": "31f41b73-3340-4a6d-f427-44d3860712fd"
      },
      "execution_count": null,
      "outputs": [
        {
          "output_type": "stream",
          "name": "stdout",
          "text": [
            "abc\n",
            "d\n"
          ]
        }
      ]
    },
    {
      "cell_type": "code",
      "source": [
        "print(\"abc\\td\")"
      ],
      "metadata": {
        "colab": {
          "base_uri": "https://localhost:8080/"
        },
        "id": "mJdGPdp36slu",
        "outputId": "2c2b34d2-fc9f-45b1-daa9-62796b4539dd"
      },
      "execution_count": null,
      "outputs": [
        {
          "output_type": "stream",
          "name": "stdout",
          "text": [
            "abc\td\n"
          ]
        }
      ]
    },
    {
      "cell_type": "markdown",
      "source": [
        " possível obter o endereço dos caracteres dos strings usando a notação de índices, string[índice], observando que para o Python o primeiro caractere tem índice 0 e o último caractere tem índice -1, vejmos alguns exemplos"
      ],
      "metadata": {
        "id": "SdxbS1cM6ypQ"
      }
    },
    {
      "cell_type": "code",
      "source": [
        "palavra = \"abcd\"\n",
        "palavra[0]"
      ],
      "metadata": {
        "colab": {
          "base_uri": "https://localhost:8080/",
          "height": 35
        },
        "id": "UtQAGEe-6wu7",
        "outputId": "8719d063-24eb-4c5d-e006-a4ff20e281fd"
      },
      "execution_count": null,
      "outputs": [
        {
          "output_type": "execute_result",
          "data": {
            "text/plain": [
              "'a'"
            ],
            "application/vnd.google.colaboratory.intrinsic+json": {
              "type": "string"
            }
          },
          "metadata": {},
          "execution_count": 15
        }
      ]
    },
    {
      "cell_type": "code",
      "source": [
        "palavra[-1]"
      ],
      "metadata": {
        "colab": {
          "base_uri": "https://localhost:8080/",
          "height": 35
        },
        "id": "oPi9iLjv7NlQ",
        "outputId": "f1466eb3-1d01-4f8c-f160-904ef74faed5"
      },
      "execution_count": null,
      "outputs": [
        {
          "output_type": "execute_result",
          "data": {
            "text/plain": [
              "'d'"
            ],
            "application/vnd.google.colaboratory.intrinsic+json": {
              "type": "string"
            }
          },
          "metadata": {},
          "execution_count": 16
        }
      ]
    },
    {
      "cell_type": "markdown",
      "source": [
        "Podemos também fatiar(slices) um string com a notação\n",
        "\n",
        "string[índiceI:índiceF],\n",
        "\n",
        "com esse comando o Python nos retorna os caracteres iniciando com o caractere de índiceI (inclusive) e finaliza com o caractere que fica antes do indiceF, isso acontece pois o indiceF é exclusivo."
      ],
      "metadata": {
        "id": "NuNNmSOY7RhO"
      }
    },
    {
      "cell_type": "code",
      "source": [
        "palavra[0:2]"
      ],
      "metadata": {
        "colab": {
          "base_uri": "https://localhost:8080/",
          "height": 35
        },
        "id": "oDrONARm7ldZ",
        "outputId": "e8ae27a9-3c40-4eeb-921a-42948129f908"
      },
      "execution_count": null,
      "outputs": [
        {
          "output_type": "execute_result",
          "data": {
            "text/plain": [
              "'ab'"
            ],
            "application/vnd.google.colaboratory.intrinsic+json": {
              "type": "string"
            }
          },
          "metadata": {},
          "execution_count": 17
        }
      ]
    },
    {
      "cell_type": "markdown",
      "source": [
        "Uma função útil que atua em strings é format(): ela usa argumentos posicionais, numerados\n",
        "começando em 0, entre chaves"
      ],
      "metadata": {
        "id": "j-Maf_Olocvn"
      }
    },
    {
      "cell_type": "code",
      "source": [
        "x,y = 3.1,-2.5\n",
        "\"{0},{1}\".format(x,y)"
      ],
      "metadata": {
        "colab": {
          "base_uri": "https://localhost:8080/",
          "height": 35
        },
        "id": "BRMIV834o1wP",
        "outputId": "d73bf77c-009a-4450-ecb7-894388cdd176"
      },
      "execution_count": null,
      "outputs": [
        {
          "output_type": "execute_result",
          "data": {
            "text/plain": [
              "'3.1,-2.5'"
            ],
            "application/vnd.google.colaboratory.intrinsic+json": {
              "type": "string"
            }
          },
          "metadata": {},
          "execution_count": 21
        }
      ]
    },
    {
      "cell_type": "code",
      "source": [
        "\"{0:1.4f} {1}\".format(x,y)"
      ],
      "metadata": {
        "colab": {
          "base_uri": "https://localhost:8080/",
          "height": 35
        },
        "id": "SiLyui6fpWPX",
        "outputId": "81b6d335-d83e-42ba-c48c-d61ab0a7eac3"
      },
      "execution_count": null,
      "outputs": [
        {
          "output_type": "execute_result",
          "data": {
            "text/plain": [
              "'10000000.0000 1.25'"
            ],
            "application/vnd.google.colaboratory.intrinsic+json": {
              "type": "string"
            }
          },
          "metadata": {},
          "execution_count": 42
        }
      ]
    },
    {
      "cell_type": "markdown",
      "source": [
        "## Tupla e Lista"
      ],
      "metadata": {
        "id": "l8AVlczc3m3h"
      }
    },
    {
      "cell_type": "markdown",
      "source": [
        "Uma tupla é uma sequência de objetos arbitrários separados por vírgulas e incluídos em parênteses. Se a tupla contém um único objeto, uma vírgula final é necessária; por exemplo,\n",
        "\n",
        "```python\n",
        "x = (2,) .\n",
        "```\n",
        "\n",
        "Tuplas suportam as mesmas operações que strings; eles são também imutável. Aqui está um exemplo onde a tupla **dados** contém outra tupla (31,10,73) :"
      ],
      "metadata": {
        "id": "tYJJnmwT3uEc"
      }
    },
    {
      "cell_type": "code",
      "source": [
        "dados = ('Gomes', 'Roberto', (31,10,73))\t# Esta é uma tupla\n",
        "sobrenome, nome, data_de_nascimento = dados\t# Descompactando a tupla\n",
        "print(nome)\n"
      ],
      "metadata": {
        "colab": {
          "base_uri": "https://localhost:8080/"
        },
        "id": "9FO5FLjA4aY4",
        "outputId": "5bcd34a9-b9c0-4afb-b874-a9c7db1bbd03"
      },
      "execution_count": null,
      "outputs": [
        {
          "output_type": "stream",
          "name": "stdout",
          "text": [
            "Roberto\n"
          ]
        }
      ]
    },
    {
      "cell_type": "code",
      "source": [
        "Ano_de_nascimento = data_de_nascimento[2]\n",
        "print(Ano_de_nascimento)"
      ],
      "metadata": {
        "colab": {
          "base_uri": "https://localhost:8080/"
        },
        "id": "Eex0wUmL4tSM",
        "outputId": "ec856bb8-855e-40e4-d08e-23ff0e7fdcac"
      },
      "execution_count": null,
      "outputs": [
        {
          "output_type": "stream",
          "name": "stdout",
          "text": [
            "73\n"
          ]
        }
      ]
    },
    {
      "cell_type": "code",
      "source": [
        "nome_completo = dados[1] + '  ' + dados[0]\n",
        "print(nome_completo)"
      ],
      "metadata": {
        "colab": {
          "base_uri": "https://localhost:8080/"
        },
        "id": "jgLsc2sV4vvD",
        "outputId": "4716ae06-d421-4071-c940-5504199e9e83"
      },
      "execution_count": null,
      "outputs": [
        {
          "output_type": "stream",
          "name": "stdout",
          "text": [
            "Roberto  Gomes\n"
          ]
        }
      ]
    },
    {
      "cell_type": "code",
      "source": [
        "print(dados[0: 2])"
      ],
      "metadata": {
        "colab": {
          "base_uri": "https://localhost:8080/"
        },
        "id": "QvbmN3nl45nO",
        "outputId": "6efb3c1c-a97b-475d-c263-af04c9f1071d"
      },
      "execution_count": null,
      "outputs": [
        {
          "output_type": "stream",
          "name": "stdout",
          "text": [
            "('Gomes', 'Roberto')\n"
          ]
        }
      ]
    },
    {
      "cell_type": "markdown",
      "source": [
        "Uma lista é semelhante a uma tupla, mas é mutável , de modo que seus elementos e comprimento podem ser mudado. Uma lista é identificada colocando-a entre colchetes. Segue alguns exemplos da operações realizadas em listas:"
      ],
      "metadata": {
        "id": "L9WhgQ6B71dc"
      }
    },
    {
      "cell_type": "code",
      "source": [
        "a = [1.0, 2.0, 3.0]\t# Crie uma lista\n",
        "a.append (4.0)\t# Anexar 4.0 à lista\n",
        "print(a)\n",
        "\n",
        "a.insert (0,0.0)\t# Insira 0.0 na posição 0\n",
        "print(a)\n",
        "\n",
        "print(len(a))\t# Determine o comprimento da lista\n",
        "a[2: 4] = [1.0, 1.0]                                 # Modifica os elementos selecionados\n",
        "print(a)\n"
      ],
      "metadata": {
        "colab": {
          "base_uri": "https://localhost:8080/"
        },
        "id": "0XUq5-yj77Zx",
        "outputId": "fa926250-c5ab-4788-b329-62f33c0d0223"
      },
      "execution_count": null,
      "outputs": [
        {
          "output_type": "stream",
          "name": "stdout",
          "text": [
            "[1.0, 2.0, 3.0, 4.0]\n",
            "[0.0, 1.0, 2.0, 3.0, 4.0]\n",
            "5\n",
            "[0.0, 1.0, 1.0, 1.0, 4.0]\n"
          ]
        }
      ]
    },
    {
      "cell_type": "markdown",
      "source": [
        "Se a for um objeto mutável, como uma lista, a instrução de atribuição b = a não resulta em um novo objeto b , mas simplesmente cria uma nova referência para a . Portanto, quaisquer mudanças feita para b será refletido em a"
      ],
      "metadata": {
        "id": "y3M_2AmZ890R"
      }
    },
    {
      "cell_type": "code",
      "source": [
        "a = [1.0, 2.0, 3.0]\n",
        "b = a\n",
        "b[0] = 5.0\n",
        "print(a)"
      ],
      "metadata": {
        "colab": {
          "base_uri": "https://localhost:8080/"
        },
        "id": "XTUa1Xar9Mjv",
        "outputId": "d4c74fb0-5f5d-4f58-c459-d0cb9dde03e0"
      },
      "execution_count": null,
      "outputs": [
        {
          "output_type": "stream",
          "name": "stdout",
          "text": [
            "[5.0, 2.0, 3.0]\n"
          ]
        }
      ]
    },
    {
      "cell_type": "markdown",
      "source": [
        "Para criar uma cópia independente de uma lista a , use  a declaração c =a[:], conforme mostrado no exemplo a seguir:"
      ],
      "metadata": {
        "id": "z_nRRXJe9Yp2"
      }
    },
    {
      "cell_type": "code",
      "source": [
        "c = a[:]\n",
        "c[0] = 1.0\n",
        "print('a =',a)\n",
        "print('c =',c)"
      ],
      "metadata": {
        "colab": {
          "base_uri": "https://localhost:8080/"
        },
        "id": "OCbTw4dy9fHj",
        "outputId": "f34c968d-44f3-4c38-c9ce-10eb4c3c2094"
      },
      "execution_count": null,
      "outputs": [
        {
          "output_type": "stream",
          "name": "stdout",
          "text": [
            "a = [5.0, 2.0, 3.0]\n",
            "c = [1.0, 2.0, 3.0]\n"
          ]
        }
      ]
    },
    {
      "cell_type": "markdown",
      "source": [
        "##Importando Bibliotecas"
      ],
      "metadata": {
        "id": "PIodwuQ1-IUL"
      }
    },
    {
      "cell_type": "markdown",
      "source": [
        "A projétil de um canhão, com massa de 15 kg, é lançada com velocidade de 300 m/s.\n",
        "Determine o alcance horizontal máximo do projétil para o caso de o ângulo formado entre o canhão e a horizontal ser de $15°$. Considere a gravidade igual a 10 m/s.\n",
        "\n",
        "Facilmente encontramos qual a fórmula de alcance máximo para o lançamento oblíquo que é dada por\n",
        "$$ A = \\dfrac{v_0^2sen 2 \\theta}{g},$$\n",
        "\n",
        "onde $v_0$ é velocidade inicial, $\\theta$ é o ângulo com a horizontal e $g$ é a gravidade"
      ],
      "metadata": {
        "id": "irljB8QM-RuH"
      }
    },
    {
      "cell_type": "code",
      "source": [
        "v0=300\n",
        "g=10\n",
        "theta = 15\n",
        "A=v0**2*sin(2*theta)/g"
      ],
      "metadata": {
        "colab": {
          "base_uri": "https://localhost:8080/",
          "height": 201
        },
        "id": "iJ4ROlN--biH",
        "outputId": "69dc2af5-7df9-4552-c140-85312a574f38"
      },
      "execution_count": null,
      "outputs": [
        {
          "output_type": "error",
          "ename": "NameError",
          "evalue": "ignored",
          "traceback": [
            "\u001b[0;31m---------------------------------------------------------------------------\u001b[0m",
            "\u001b[0;31mNameError\u001b[0m                                 Traceback (most recent call last)",
            "\u001b[0;32m<ipython-input-25-de02639faec4>\u001b[0m in \u001b[0;36m<cell line: 4>\u001b[0;34m()\u001b[0m\n\u001b[1;32m      2\u001b[0m \u001b[0mg\u001b[0m\u001b[0;34m=\u001b[0m\u001b[0;36m10\u001b[0m\u001b[0;34m\u001b[0m\u001b[0;34m\u001b[0m\u001b[0m\n\u001b[1;32m      3\u001b[0m \u001b[0mtheta\u001b[0m \u001b[0;34m=\u001b[0m \u001b[0;36m15\u001b[0m\u001b[0;34m\u001b[0m\u001b[0;34m\u001b[0m\u001b[0m\n\u001b[0;32m----> 4\u001b[0;31m \u001b[0mA\u001b[0m\u001b[0;34m=\u001b[0m\u001b[0mv0\u001b[0m\u001b[0;34m**\u001b[0m\u001b[0;36m2\u001b[0m\u001b[0;34m*\u001b[0m\u001b[0msin\u001b[0m\u001b[0;34m(\u001b[0m\u001b[0;36m2\u001b[0m\u001b[0;34m*\u001b[0m\u001b[0mtheta\u001b[0m\u001b[0;34m)\u001b[0m\u001b[0;34m/\u001b[0m\u001b[0mg\u001b[0m\u001b[0;34m\u001b[0m\u001b[0;34m\u001b[0m\u001b[0m\n\u001b[0m",
            "\u001b[0;31mNameError\u001b[0m: name 'sin' is not defined"
          ]
        }
      ]
    },
    {
      "cell_type": "code",
      "source": [
        "import math\n",
        "\n",
        "v0 =300\n",
        "g=10\n",
        "theta=15\n",
        "A= (v0**2/g)*math.sin(2*theta*math.pi/180)\n",
        "print(round(A))\n"
      ],
      "metadata": {
        "colab": {
          "base_uri": "https://localhost:8080/"
        },
        "id": "jj73JFIe-nvJ",
        "outputId": "9692a706-b2ae-4b72-d04a-ab6e10e1cfa6"
      },
      "execution_count": null,
      "outputs": [
        {
          "output_type": "stream",
          "name": "stdout",
          "text": [
            "4500\n"
          ]
        }
      ]
    },
    {
      "cell_type": "code",
      "source": [
        "from math import sin, pi\n",
        "v0 =300\n",
        "g=10\n",
        "theta=15\n",
        "A= (v0**2/g)*sin(2*theta*pi/180)\n",
        "print(A)"
      ],
      "metadata": {
        "colab": {
          "base_uri": "https://localhost:8080/"
        },
        "id": "J7q9_kqV_LrE",
        "outputId": "4c5037f9-285f-40ac-a93a-ae15616699c0"
      },
      "execution_count": null,
      "outputs": [
        {
          "output_type": "stream",
          "name": "stdout",
          "text": [
            "4499.999999999999\n"
          ]
        }
      ]
    },
    {
      "cell_type": "code",
      "source": [
        "from math import *\n",
        "v0 =300\n",
        "g=10\n",
        "theta=15\n",
        "A= (v0**2/g)*sin(2*theta*pi/180)\n",
        "print(A)"
      ],
      "metadata": {
        "colab": {
          "base_uri": "https://localhost:8080/"
        },
        "id": "onz0EFWw_foL",
        "outputId": "7a3e1f4b-f208-4b69-ce22-f1899d79e5bf"
      },
      "execution_count": null,
      "outputs": [
        {
          "output_type": "stream",
          "name": "stdout",
          "text": [
            "4499.999999999999\n"
          ]
        }
      ]
    },
    {
      "cell_type": "code",
      "source": [
        "import math as m\n",
        "v0 =300\n",
        "g=10\n",
        "theta=15\n",
        "A= (v0**2/g)*m.sin(2*theta*m.pi/180)\n",
        "print(A)"
      ],
      "metadata": {
        "colab": {
          "base_uri": "https://localhost:8080/"
        },
        "id": "jpYm3eZn_sqR",
        "outputId": "d683d56a-e6bd-4666-b8d9-e61b5f2054e3"
      },
      "execution_count": null,
      "outputs": [
        {
          "output_type": "stream",
          "name": "stdout",
          "text": [
            "4499.999999999999\n"
          ]
        }
      ]
    },
    {
      "cell_type": "code",
      "source": [
        "from math import cos as c, sin as s\n",
        "print(c(0) + s(0))"
      ],
      "metadata": {
        "colab": {
          "base_uri": "https://localhost:8080/"
        },
        "id": "mHCRxJkD_5q4",
        "outputId": "a643bf9e-8057-41a5-d58a-8b3eaf5e7e10"
      },
      "execution_count": null,
      "outputs": [
        {
          "output_type": "stream",
          "name": "stdout",
          "text": [
            "1.0\n"
          ]
        }
      ]
    },
    {
      "cell_type": "markdown",
      "source": [
        "## Funções"
      ],
      "metadata": {
        "id": "wVHoGHYAAx3O"
      }
    },
    {
      "cell_type": "markdown",
      "source": [
        "vamos supor se num problema eu tenha que calcular diversos alcances de um lançamento oblíquo para diversos ângulos, por exemplo 15º, 30º, 45º, 60ºe 75º, usando esse programa\n",
        "\n"
      ],
      "metadata": {
        "id": "tvnd0SLCBBSB"
      }
    },
    {
      "cell_type": "code",
      "source": [
        "import math\n",
        "v0 =300\n",
        "g=10\n",
        "theta=15     #mudar o valor do ângulo para  30º, 45º, 60ºe 75º\n",
        "A= (v0**2/g)*math.sin(2*theta*math.pi/180)\n",
        "print(A)"
      ],
      "metadata": {
        "colab": {
          "base_uri": "https://localhost:8080/"
        },
        "id": "PqbTfgHuBIqa",
        "outputId": "d803cedc-c8e2-430e-c27f-fb7985a34691"
      },
      "execution_count": null,
      "outputs": [
        {
          "output_type": "stream",
          "name": "stdout",
          "text": [
            "4499.999999999999\n"
          ]
        }
      ]
    },
    {
      "cell_type": "markdown",
      "source": [
        "```python\n",
        "def  nome.Da.Minha.Função(Argumentos1, Argumentos2,….Argumentosn):\n",
        "\n",
        "\t\tDeclarações\n",
        "\n",
        "\t\treturn valor-de-retorno\n"
      ],
      "metadata": {
        "id": "_cHJeq9oCBfy"
      }
    },
    {
      "cell_type": "markdown",
      "source": [
        "### Condicionais (if)"
      ],
      "metadata": {
        "id": "FVXhM4HfDAMY"
      }
    },
    {
      "cell_type": "markdown",
      "source": [
        "```python\n",
        "if condições:\n",
        "                   bloco de instruções\n",
        "elif condições:\n",
        "                  bloco de instruções\n",
        "else:\n",
        "                  bloco de instruções\n"
      ],
      "metadata": {
        "id": "15oMOfgvDHW8"
      }
    },
    {
      "cell_type": "code",
      "source": [
        "def sinal_numerico(a):\n",
        "\tif a < 0.0:\n",
        "\t\tsinal = 'negativo'\n",
        "\telif a > 0.0:\n",
        "\t\tsinal = 'positivo'\n",
        "\telse:\n",
        "\t\tsinal = 'zero'\n",
        "\treturn sinal"
      ],
      "metadata": {
        "id": "_NXiqCj3B-Qi"
      },
      "execution_count": null,
      "outputs": []
    },
    {
      "cell_type": "code",
      "source": [
        "a = 1.5\n",
        "print('a é ' + sinal_numerico(a))"
      ],
      "metadata": {
        "colab": {
          "base_uri": "https://localhost:8080/"
        },
        "id": "x6wqKQZZDjkH",
        "outputId": "51601aa2-3e56-4c56-c4e5-bf91ebe1578a"
      },
      "execution_count": null,
      "outputs": [
        {
          "output_type": "stream",
          "name": "stdout",
          "text": [
            "a é positivo\n"
          ]
        }
      ]
    },
    {
      "cell_type": "markdown",
      "source": [
        "### O Comando for"
      ],
      "metadata": {
        "id": "eOeLYKP3Dr-r"
      }
    },
    {
      "cell_type": "markdown",
      "source": [
        "Antes de falar sobre o comando **for**, vamos falar sobre a função range. A função range retorna uma progressão aritimética de inteiros numa lista com a seguinte estrutura:\n",
        "\n",
        "\n",
        "\n",
        "        range(início,parada,incremento)\n",
        "\n",
        "onde:\n",
        "\n",
        "1. início é um parâmetro opcional e o primeiro valor a ser gerado, caso não seja indicado, por *default* é utilizado o número zero (0);\n",
        "\n",
        "2. parada é o limite da progressão, a progressão termina no último valor antes da parada;\n",
        "\n",
        "3. incremento também é um parâmetro opcional e indica o passo da progressão, caso não seja informado o *default* é um (1)."
      ],
      "metadata": {
        "id": "NVZEJYNxEBax"
      }
    },
    {
      "cell_type": "markdown",
      "source": [
        "O comando **for** nos permite iterar sobre os elementos de uma lista, de uma forma geral o comando é expresso da seguinte maneira:\n",
        "\n",
        " ```python\n",
        "    for variavel in lista: comandos\n",
        "```"
      ],
      "metadata": {
        "id": "RzIjOZ1Bj9xy"
      }
    },
    {
      "cell_type": "code",
      "source": [
        "for i in range(3): print(i)"
      ],
      "metadata": {
        "colab": {
          "base_uri": "https://localhost:8080/"
        },
        "id": "QefxXZ7FEcmR",
        "outputId": "3ddc7388-722a-4af7-d9f4-b12535fcba82"
      },
      "execution_count": null,
      "outputs": [
        {
          "output_type": "stream",
          "name": "stdout",
          "text": [
            "0\n",
            "1\n",
            "2\n"
          ]
        }
      ]
    },
    {
      "cell_type": "code",
      "source": [
        "for i in range(2,5,2): print(i)"
      ],
      "metadata": {
        "colab": {
          "base_uri": "https://localhost:8080/"
        },
        "id": "FICcXudflUER",
        "outputId": "30381f74-b228-4cad-adef-9ed58a069bf1"
      },
      "execution_count": null,
      "outputs": [
        {
          "output_type": "stream",
          "name": "stdout",
          "text": [
            "2\n",
            "4\n"
          ]
        }
      ]
    },
    {
      "cell_type": "code",
      "source": [
        "for i in range(5,2,-1): print(i)"
      ],
      "metadata": {
        "colab": {
          "base_uri": "https://localhost:8080/"
        },
        "id": "bfDxIXPtlZbj",
        "outputId": "d7955719-4f25-402d-cc9f-0152f9f59ee2"
      },
      "execution_count": null,
      "outputs": [
        {
          "output_type": "stream",
          "name": "stdout",
          "text": [
            "5\n",
            "4\n",
            "3\n"
          ]
        }
      ]
    },
    {
      "cell_type": "code",
      "source": [
        "import math\n",
        "def Alcance(V0,theta,g=10):\n",
        "  return (v0**2/g)*math.sin(2*theta*math.pi/180)\n",
        "v0=300\n",
        "theta = [15,30,45,60,75]\n",
        "n=len(theta)\n",
        "A =[]\n",
        "for i in range(len(theta)):\n",
        "  A.append(Alcance(v0,theta[i],9.81))\n",
        "print(A)\n"
      ],
      "metadata": {
        "colab": {
          "base_uri": "https://localhost:8080/"
        },
        "id": "Jzvvdi_6lu4W",
        "outputId": "94848a9c-6161-479f-ab4e-053467c8c25c"
      },
      "execution_count": null,
      "outputs": [
        {
          "output_type": "stream",
          "name": "stdout",
          "text": [
            "[4587.155963302751, 7945.187190682922, 9174.311926605504, 7945.187190682923, 4587.155963302751]\n"
          ]
        }
      ]
    },
    {
      "cell_type": "markdown",
      "source": [
        "## Como fazer gráficos com o módulo matplolib.pyplot"
      ],
      "metadata": {
        "id": "iRqPAfVemVZn"
      }
    },
    {
      "cell_type": "markdown",
      "source": [
        "Vamos retornar ao nosso problema original, ou seja: determinar a posição vertical $y$ da bola no tempo $t$:\n",
        "\n",
        "onde $v_0$ é a velocidade inicial da bola e $g$ é aceleração da gravidade no local, que pode ser aproximado por\n",
        "$10\\; m/s^2$\tNo entanto, agora vamos construir o gráfico dessa função, para isso usaremos o módulo matplotlib, que usado para realizar gráficos 2D."
      ],
      "metadata": {
        "id": "Fg1aXViJmbxC"
      }
    },
    {
      "cell_type": "code",
      "source": [
        "import numpy as np\n",
        "import matplotlib.pyplot as plt\n",
        "import seaborn as sns\n",
        "from seaborn import load_dataset\n",
        "\n",
        "import matplotlib.pyplot as plt\n",
        "\n",
        "\n",
        "v0 = 5 # Velocidade inicial\n",
        "g = 10 # Aceleração da gravidade\n",
        "t = np.linspace(0,1,1001)# Tempo\n",
        "y = v0 * t - 0.5 * g * t ** 2 # Posição vertical\n",
        "plt.xkcd()\n",
        "#plt.figure(facecolor=\"W\",figsize=(10,5))\n",
        "plt.plot(t,y) # plotar o grafico yxt\n",
        "plt.xlabel('t (s)') # eixo x com t(s)\n",
        "plt.ylabel('$y=v_0t - \\dfrac{1}{2}gt^2 $') # eixo y como y(m)\n",
        "plt.show() #mostrar a figura"
      ],
      "metadata": {
        "colab": {
          "base_uri": "https://localhost:8080/",
          "height": 1000
        },
        "id": "0m-XzD78nEIB",
        "outputId": "5c8fd297-c1f2-4b7a-f50b-0e80e04760d6"
      },
      "execution_count": null,
      "outputs": [
        {
          "output_type": "display_data",
          "data": {
            "text/plain": [
              "<IPython.core.display.HTML object>"
            ],
            "text/html": [
              "\n",
              "     <input type=\"file\" id=\"files-8617c816-f8c1-436a-8069-2c07e8eb8cbb\" name=\"files[]\" multiple disabled\n",
              "        style=\"border:none\" />\n",
              "     <output id=\"result-8617c816-f8c1-436a-8069-2c07e8eb8cbb\">\n",
              "      Upload widget is only available when the cell has been executed in the\n",
              "      current browser session. Please rerun this cell to enable.\n",
              "      </output>\n",
              "      <script>// Copyright 2017 Google LLC\n",
              "//\n",
              "// Licensed under the Apache License, Version 2.0 (the \"License\");\n",
              "// you may not use this file except in compliance with the License.\n",
              "// You may obtain a copy of the License at\n",
              "//\n",
              "//      http://www.apache.org/licenses/LICENSE-2.0\n",
              "//\n",
              "// Unless required by applicable law or agreed to in writing, software\n",
              "// distributed under the License is distributed on an \"AS IS\" BASIS,\n",
              "// WITHOUT WARRANTIES OR CONDITIONS OF ANY KIND, either express or implied.\n",
              "// See the License for the specific language governing permissions and\n",
              "// limitations under the License.\n",
              "\n",
              "/**\n",
              " * @fileoverview Helpers for google.colab Python module.\n",
              " */\n",
              "(function(scope) {\n",
              "function span(text, styleAttributes = {}) {\n",
              "  const element = document.createElement('span');\n",
              "  element.textContent = text;\n",
              "  for (const key of Object.keys(styleAttributes)) {\n",
              "    element.style[key] = styleAttributes[key];\n",
              "  }\n",
              "  return element;\n",
              "}\n",
              "\n",
              "// Max number of bytes which will be uploaded at a time.\n",
              "const MAX_PAYLOAD_SIZE = 100 * 1024;\n",
              "\n",
              "function _uploadFiles(inputId, outputId) {\n",
              "  const steps = uploadFilesStep(inputId, outputId);\n",
              "  const outputElement = document.getElementById(outputId);\n",
              "  // Cache steps on the outputElement to make it available for the next call\n",
              "  // to uploadFilesContinue from Python.\n",
              "  outputElement.steps = steps;\n",
              "\n",
              "  return _uploadFilesContinue(outputId);\n",
              "}\n",
              "\n",
              "// This is roughly an async generator (not supported in the browser yet),\n",
              "// where there are multiple asynchronous steps and the Python side is going\n",
              "// to poll for completion of each step.\n",
              "// This uses a Promise to block the python side on completion of each step,\n",
              "// then passes the result of the previous step as the input to the next step.\n",
              "function _uploadFilesContinue(outputId) {\n",
              "  const outputElement = document.getElementById(outputId);\n",
              "  const steps = outputElement.steps;\n",
              "\n",
              "  const next = steps.next(outputElement.lastPromiseValue);\n",
              "  return Promise.resolve(next.value.promise).then((value) => {\n",
              "    // Cache the last promise value to make it available to the next\n",
              "    // step of the generator.\n",
              "    outputElement.lastPromiseValue = value;\n",
              "    return next.value.response;\n",
              "  });\n",
              "}\n",
              "\n",
              "/**\n",
              " * Generator function which is called between each async step of the upload\n",
              " * process.\n",
              " * @param {string} inputId Element ID of the input file picker element.\n",
              " * @param {string} outputId Element ID of the output display.\n",
              " * @return {!Iterable<!Object>} Iterable of next steps.\n",
              " */\n",
              "function* uploadFilesStep(inputId, outputId) {\n",
              "  const inputElement = document.getElementById(inputId);\n",
              "  inputElement.disabled = false;\n",
              "\n",
              "  const outputElement = document.getElementById(outputId);\n",
              "  outputElement.innerHTML = '';\n",
              "\n",
              "  const pickedPromise = new Promise((resolve) => {\n",
              "    inputElement.addEventListener('change', (e) => {\n",
              "      resolve(e.target.files);\n",
              "    });\n",
              "  });\n",
              "\n",
              "  const cancel = document.createElement('button');\n",
              "  inputElement.parentElement.appendChild(cancel);\n",
              "  cancel.textContent = 'Cancel upload';\n",
              "  const cancelPromise = new Promise((resolve) => {\n",
              "    cancel.onclick = () => {\n",
              "      resolve(null);\n",
              "    };\n",
              "  });\n",
              "\n",
              "  // Wait for the user to pick the files.\n",
              "  const files = yield {\n",
              "    promise: Promise.race([pickedPromise, cancelPromise]),\n",
              "    response: {\n",
              "      action: 'starting',\n",
              "    }\n",
              "  };\n",
              "\n",
              "  cancel.remove();\n",
              "\n",
              "  // Disable the input element since further picks are not allowed.\n",
              "  inputElement.disabled = true;\n",
              "\n",
              "  if (!files) {\n",
              "    return {\n",
              "      response: {\n",
              "        action: 'complete',\n",
              "      }\n",
              "    };\n",
              "  }\n",
              "\n",
              "  for (const file of files) {\n",
              "    const li = document.createElement('li');\n",
              "    li.append(span(file.name, {fontWeight: 'bold'}));\n",
              "    li.append(span(\n",
              "        `(${file.type || 'n/a'}) - ${file.size} bytes, ` +\n",
              "        `last modified: ${\n",
              "            file.lastModifiedDate ? file.lastModifiedDate.toLocaleDateString() :\n",
              "                                    'n/a'} - `));\n",
              "    const percent = span('0% done');\n",
              "    li.appendChild(percent);\n",
              "\n",
              "    outputElement.appendChild(li);\n",
              "\n",
              "    const fileDataPromise = new Promise((resolve) => {\n",
              "      const reader = new FileReader();\n",
              "      reader.onload = (e) => {\n",
              "        resolve(e.target.result);\n",
              "      };\n",
              "      reader.readAsArrayBuffer(file);\n",
              "    });\n",
              "    // Wait for the data to be ready.\n",
              "    let fileData = yield {\n",
              "      promise: fileDataPromise,\n",
              "      response: {\n",
              "        action: 'continue',\n",
              "      }\n",
              "    };\n",
              "\n",
              "    // Use a chunked sending to avoid message size limits. See b/62115660.\n",
              "    let position = 0;\n",
              "    do {\n",
              "      const length = Math.min(fileData.byteLength - position, MAX_PAYLOAD_SIZE);\n",
              "      const chunk = new Uint8Array(fileData, position, length);\n",
              "      position += length;\n",
              "\n",
              "      const base64 = btoa(String.fromCharCode.apply(null, chunk));\n",
              "      yield {\n",
              "        response: {\n",
              "          action: 'append',\n",
              "          file: file.name,\n",
              "          data: base64,\n",
              "        },\n",
              "      };\n",
              "\n",
              "      let percentDone = fileData.byteLength === 0 ?\n",
              "          100 :\n",
              "          Math.round((position / fileData.byteLength) * 100);\n",
              "      percent.textContent = `${percentDone}% done`;\n",
              "\n",
              "    } while (position < fileData.byteLength);\n",
              "  }\n",
              "\n",
              "  // All done.\n",
              "  yield {\n",
              "    response: {\n",
              "      action: 'complete',\n",
              "    }\n",
              "  };\n",
              "}\n",
              "\n",
              "scope.google = scope.google || {};\n",
              "scope.google.colab = scope.google.colab || {};\n",
              "scope.google.colab._files = {\n",
              "  _uploadFiles,\n",
              "  _uploadFilesContinue,\n",
              "};\n",
              "})(self);\n",
              "</script> "
            ]
          },
          "metadata": {}
        },
        {
          "output_type": "stream",
          "name": "stderr",
          "text": [
            "WARNING:matplotlib.font_manager:findfont: Font family 'xkcd' not found.\n",
            "WARNING:matplotlib.font_manager:findfont: Font family 'xkcd Script' not found.\n",
            "WARNING:matplotlib.font_manager:findfont: Font family 'Comic Neue' not found.\n",
            "WARNING:matplotlib.font_manager:findfont: Font family 'Comic Sans MS' not found.\n",
            "WARNING:matplotlib.font_manager:findfont: Font family 'xkcd' not found.\n",
            "WARNING:matplotlib.font_manager:findfont: Font family 'xkcd Script' not found.\n",
            "WARNING:matplotlib.font_manager:findfont: Font family 'Comic Neue' not found.\n",
            "WARNING:matplotlib.font_manager:findfont: Font family 'Comic Sans MS' not found.\n",
            "WARNING:matplotlib.font_manager:findfont: Font family 'xkcd' not found.\n",
            "WARNING:matplotlib.font_manager:findfont: Font family 'xkcd Script' not found.\n",
            "WARNING:matplotlib.font_manager:findfont: Font family 'Comic Neue' not found.\n",
            "WARNING:matplotlib.font_manager:findfont: Font family 'Comic Sans MS' not found.\n",
            "WARNING:matplotlib.font_manager:findfont: Font family 'xkcd' not found.\n",
            "WARNING:matplotlib.font_manager:findfont: Font family 'xkcd Script' not found.\n",
            "WARNING:matplotlib.font_manager:findfont: Font family 'Comic Neue' not found.\n",
            "WARNING:matplotlib.font_manager:findfont: Font family 'Comic Sans MS' not found.\n",
            "WARNING:matplotlib.font_manager:findfont: Font family 'xkcd' not found.\n",
            "WARNING:matplotlib.font_manager:findfont: Font family 'xkcd Script' not found.\n",
            "WARNING:matplotlib.font_manager:findfont: Font family 'Comic Neue' not found.\n",
            "WARNING:matplotlib.font_manager:findfont: Font family 'Comic Sans MS' not found.\n",
            "WARNING:matplotlib.font_manager:findfont: Font family 'xkcd' not found.\n",
            "WARNING:matplotlib.font_manager:findfont: Font family 'xkcd Script' not found.\n",
            "WARNING:matplotlib.font_manager:findfont: Font family 'Comic Neue' not found.\n",
            "WARNING:matplotlib.font_manager:findfont: Font family 'Comic Sans MS' not found.\n",
            "WARNING:matplotlib.font_manager:findfont: Font family 'xkcd' not found.\n",
            "WARNING:matplotlib.font_manager:findfont: Font family 'xkcd Script' not found.\n",
            "WARNING:matplotlib.font_manager:findfont: Font family 'Comic Neue' not found.\n",
            "WARNING:matplotlib.font_manager:findfont: Font family 'Comic Sans MS' not found.\n",
            "WARNING:matplotlib.font_manager:findfont: Font family 'xkcd' not found.\n",
            "WARNING:matplotlib.font_manager:findfont: Font family 'xkcd Script' not found.\n",
            "WARNING:matplotlib.font_manager:findfont: Font family 'Comic Neue' not found.\n",
            "WARNING:matplotlib.font_manager:findfont: Font family 'Comic Sans MS' not found.\n",
            "WARNING:matplotlib.font_manager:findfont: Font family 'xkcd' not found.\n",
            "WARNING:matplotlib.font_manager:findfont: Font family 'xkcd Script' not found.\n",
            "WARNING:matplotlib.font_manager:findfont: Font family 'Comic Neue' not found.\n",
            "WARNING:matplotlib.font_manager:findfont: Font family 'Comic Sans MS' not found.\n",
            "WARNING:matplotlib.font_manager:findfont: Font family 'xkcd' not found.\n",
            "WARNING:matplotlib.font_manager:findfont: Font family 'xkcd Script' not found.\n",
            "WARNING:matplotlib.font_manager:findfont: Font family 'Comic Neue' not found.\n",
            "WARNING:matplotlib.font_manager:findfont: Font family 'Comic Sans MS' not found.\n",
            "WARNING:matplotlib.font_manager:findfont: Font family 'xkcd' not found.\n",
            "WARNING:matplotlib.font_manager:findfont: Font family 'xkcd Script' not found.\n",
            "WARNING:matplotlib.font_manager:findfont: Font family 'Comic Neue' not found.\n",
            "WARNING:matplotlib.font_manager:findfont: Font family 'Comic Sans MS' not found.\n",
            "WARNING:matplotlib.font_manager:findfont: Font family 'xkcd' not found.\n",
            "WARNING:matplotlib.font_manager:findfont: Font family 'xkcd Script' not found.\n",
            "WARNING:matplotlib.font_manager:findfont: Font family 'Comic Neue' not found.\n",
            "WARNING:matplotlib.font_manager:findfont: Font family 'Comic Sans MS' not found.\n",
            "WARNING:matplotlib.font_manager:findfont: Font family 'xkcd' not found.\n",
            "WARNING:matplotlib.font_manager:findfont: Font family 'xkcd Script' not found.\n",
            "WARNING:matplotlib.font_manager:findfont: Font family 'Comic Neue' not found.\n",
            "WARNING:matplotlib.font_manager:findfont: Font family 'Comic Sans MS' not found.\n",
            "WARNING:matplotlib.font_manager:findfont: Font family 'xkcd' not found.\n",
            "WARNING:matplotlib.font_manager:findfont: Font family 'xkcd Script' not found.\n",
            "WARNING:matplotlib.font_manager:findfont: Font family 'Comic Neue' not found.\n",
            "WARNING:matplotlib.font_manager:findfont: Font family 'Comic Sans MS' not found.\n",
            "WARNING:matplotlib.font_manager:findfont: Font family 'xkcd' not found.\n",
            "WARNING:matplotlib.font_manager:findfont: Font family 'xkcd Script' not found.\n",
            "WARNING:matplotlib.font_manager:findfont: Font family 'Comic Neue' not found.\n",
            "WARNING:matplotlib.font_manager:findfont: Font family 'Comic Sans MS' not found.\n",
            "WARNING:matplotlib.font_manager:findfont: Font family 'xkcd' not found.\n",
            "WARNING:matplotlib.font_manager:findfont: Font family 'xkcd Script' not found.\n",
            "WARNING:matplotlib.font_manager:findfont: Font family 'Comic Neue' not found.\n",
            "WARNING:matplotlib.font_manager:findfont: Font family 'Comic Sans MS' not found.\n",
            "WARNING:matplotlib.font_manager:findfont: Font family 'xkcd' not found.\n",
            "WARNING:matplotlib.font_manager:findfont: Font family 'xkcd Script' not found.\n",
            "WARNING:matplotlib.font_manager:findfont: Font family 'Comic Neue' not found.\n",
            "WARNING:matplotlib.font_manager:findfont: Font family 'Comic Sans MS' not found.\n",
            "WARNING:matplotlib.font_manager:findfont: Font family 'xkcd' not found.\n",
            "WARNING:matplotlib.font_manager:findfont: Font family 'xkcd Script' not found.\n",
            "WARNING:matplotlib.font_manager:findfont: Font family 'Comic Neue' not found.\n",
            "WARNING:matplotlib.font_manager:findfont: Font family 'Comic Sans MS' not found.\n",
            "WARNING:matplotlib.font_manager:findfont: Font family 'xkcd' not found.\n",
            "WARNING:matplotlib.font_manager:findfont: Font family 'xkcd Script' not found.\n",
            "WARNING:matplotlib.font_manager:findfont: Font family 'Comic Neue' not found.\n",
            "WARNING:matplotlib.font_manager:findfont: Font family 'Comic Sans MS' not found.\n",
            "WARNING:matplotlib.font_manager:findfont: Font family 'xkcd' not found.\n",
            "WARNING:matplotlib.font_manager:findfont: Font family 'xkcd Script' not found.\n",
            "WARNING:matplotlib.font_manager:findfont: Font family 'Comic Neue' not found.\n",
            "WARNING:matplotlib.font_manager:findfont: Font family 'Comic Sans MS' not found.\n",
            "WARNING:matplotlib.font_manager:findfont: Font family 'xkcd' not found.\n",
            "WARNING:matplotlib.font_manager:findfont: Font family 'xkcd Script' not found.\n",
            "WARNING:matplotlib.font_manager:findfont: Font family 'Comic Neue' not found.\n",
            "WARNING:matplotlib.font_manager:findfont: Font family 'Comic Sans MS' not found.\n",
            "WARNING:matplotlib.font_manager:findfont: Font family 'xkcd' not found.\n",
            "WARNING:matplotlib.font_manager:findfont: Font family 'xkcd Script' not found.\n",
            "WARNING:matplotlib.font_manager:findfont: Font family 'Comic Neue' not found.\n",
            "WARNING:matplotlib.font_manager:findfont: Font family 'Comic Sans MS' not found.\n",
            "WARNING:matplotlib.font_manager:findfont: Font family 'xkcd' not found.\n",
            "WARNING:matplotlib.font_manager:findfont: Font family 'xkcd Script' not found.\n",
            "WARNING:matplotlib.font_manager:findfont: Font family 'Comic Neue' not found.\n",
            "WARNING:matplotlib.font_manager:findfont: Font family 'Comic Sans MS' not found.\n",
            "WARNING:matplotlib.font_manager:findfont: Font family 'xkcd' not found.\n",
            "WARNING:matplotlib.font_manager:findfont: Font family 'xkcd Script' not found.\n",
            "WARNING:matplotlib.font_manager:findfont: Font family 'Comic Neue' not found.\n",
            "WARNING:matplotlib.font_manager:findfont: Font family 'Comic Sans MS' not found.\n",
            "WARNING:matplotlib.font_manager:findfont: Font family 'xkcd' not found.\n",
            "WARNING:matplotlib.font_manager:findfont: Font family 'xkcd Script' not found.\n",
            "WARNING:matplotlib.font_manager:findfont: Font family 'Comic Neue' not found.\n",
            "WARNING:matplotlib.font_manager:findfont: Font family 'Comic Sans MS' not found.\n",
            "WARNING:matplotlib.font_manager:findfont: Font family 'xkcd' not found.\n",
            "WARNING:matplotlib.font_manager:findfont: Font family 'xkcd Script' not found.\n",
            "WARNING:matplotlib.font_manager:findfont: Font family 'Comic Neue' not found.\n",
            "WARNING:matplotlib.font_manager:findfont: Font family 'Comic Sans MS' not found.\n",
            "WARNING:matplotlib.font_manager:findfont: Font family 'xkcd' not found.\n",
            "WARNING:matplotlib.font_manager:findfont: Font family 'xkcd Script' not found.\n",
            "WARNING:matplotlib.font_manager:findfont: Font family 'Comic Neue' not found.\n",
            "WARNING:matplotlib.font_manager:findfont: Font family 'Comic Sans MS' not found.\n",
            "WARNING:matplotlib.font_manager:findfont: Font family 'xkcd' not found.\n",
            "WARNING:matplotlib.font_manager:findfont: Font family 'xkcd Script' not found.\n",
            "WARNING:matplotlib.font_manager:findfont: Font family 'Comic Neue' not found.\n",
            "WARNING:matplotlib.font_manager:findfont: Font family 'Comic Sans MS' not found.\n",
            "WARNING:matplotlib.font_manager:findfont: Font family 'xkcd' not found.\n",
            "WARNING:matplotlib.font_manager:findfont: Font family 'xkcd Script' not found.\n",
            "WARNING:matplotlib.font_manager:findfont: Font family 'Comic Neue' not found.\n",
            "WARNING:matplotlib.font_manager:findfont: Font family 'Comic Sans MS' not found.\n",
            "WARNING:matplotlib.font_manager:findfont: Font family 'xkcd' not found.\n",
            "WARNING:matplotlib.font_manager:findfont: Font family 'xkcd Script' not found.\n",
            "WARNING:matplotlib.font_manager:findfont: Font family 'Comic Neue' not found.\n",
            "WARNING:matplotlib.font_manager:findfont: Font family 'Comic Sans MS' not found.\n",
            "WARNING:matplotlib.font_manager:findfont: Font family 'xkcd' not found.\n",
            "WARNING:matplotlib.font_manager:findfont: Font family 'xkcd Script' not found.\n",
            "WARNING:matplotlib.font_manager:findfont: Font family 'Comic Neue' not found.\n",
            "WARNING:matplotlib.font_manager:findfont: Font family 'Comic Sans MS' not found.\n",
            "WARNING:matplotlib.font_manager:findfont: Font family 'xkcd' not found.\n",
            "WARNING:matplotlib.font_manager:findfont: Font family 'xkcd Script' not found.\n",
            "WARNING:matplotlib.font_manager:findfont: Font family 'Comic Neue' not found.\n",
            "WARNING:matplotlib.font_manager:findfont: Font family 'Comic Sans MS' not found.\n",
            "WARNING:matplotlib.font_manager:findfont: Font family 'xkcd' not found.\n",
            "WARNING:matplotlib.font_manager:findfont: Font family 'xkcd Script' not found.\n",
            "WARNING:matplotlib.font_manager:findfont: Font family 'Comic Neue' not found.\n",
            "WARNING:matplotlib.font_manager:findfont: Font family 'Comic Sans MS' not found.\n",
            "WARNING:matplotlib.font_manager:findfont: Font family 'xkcd' not found.\n",
            "WARNING:matplotlib.font_manager:findfont: Font family 'xkcd Script' not found.\n",
            "WARNING:matplotlib.font_manager:findfont: Font family 'Comic Neue' not found.\n",
            "WARNING:matplotlib.font_manager:findfont: Font family 'Comic Sans MS' not found.\n",
            "WARNING:matplotlib.font_manager:findfont: Font family 'xkcd' not found.\n",
            "WARNING:matplotlib.font_manager:findfont: Font family 'xkcd Script' not found.\n",
            "WARNING:matplotlib.font_manager:findfont: Font family 'Comic Neue' not found.\n",
            "WARNING:matplotlib.font_manager:findfont: Font family 'Comic Sans MS' not found.\n",
            "WARNING:matplotlib.font_manager:findfont: Font family 'xkcd' not found.\n",
            "WARNING:matplotlib.font_manager:findfont: Font family 'xkcd Script' not found.\n",
            "WARNING:matplotlib.font_manager:findfont: Font family 'Comic Neue' not found.\n",
            "WARNING:matplotlib.font_manager:findfont: Font family 'Comic Sans MS' not found.\n",
            "WARNING:matplotlib.font_manager:findfont: Font family 'xkcd' not found.\n",
            "WARNING:matplotlib.font_manager:findfont: Font family 'xkcd Script' not found.\n",
            "WARNING:matplotlib.font_manager:findfont: Font family 'Comic Neue' not found.\n",
            "WARNING:matplotlib.font_manager:findfont: Font family 'Comic Sans MS' not found.\n",
            "WARNING:matplotlib.font_manager:findfont: Font family 'xkcd' not found.\n",
            "WARNING:matplotlib.font_manager:findfont: Font family 'xkcd Script' not found.\n",
            "WARNING:matplotlib.font_manager:findfont: Font family 'Comic Neue' not found.\n",
            "WARNING:matplotlib.font_manager:findfont: Font family 'Comic Sans MS' not found.\n",
            "WARNING:matplotlib.font_manager:findfont: Font family 'xkcd' not found.\n",
            "WARNING:matplotlib.font_manager:findfont: Font family 'xkcd Script' not found.\n",
            "WARNING:matplotlib.font_manager:findfont: Font family 'Comic Neue' not found.\n",
            "WARNING:matplotlib.font_manager:findfont: Font family 'Comic Sans MS' not found.\n",
            "WARNING:matplotlib.font_manager:findfont: Font family 'xkcd' not found.\n",
            "WARNING:matplotlib.font_manager:findfont: Font family 'xkcd Script' not found.\n",
            "WARNING:matplotlib.font_manager:findfont: Font family 'Comic Neue' not found.\n",
            "WARNING:matplotlib.font_manager:findfont: Font family 'Comic Sans MS' not found.\n",
            "WARNING:matplotlib.font_manager:findfont: Font family 'xkcd' not found.\n",
            "WARNING:matplotlib.font_manager:findfont: Font family 'xkcd Script' not found.\n",
            "WARNING:matplotlib.font_manager:findfont: Font family 'Comic Neue' not found.\n",
            "WARNING:matplotlib.font_manager:findfont: Font family 'Comic Sans MS' not found.\n",
            "WARNING:matplotlib.font_manager:findfont: Font family 'xkcd' not found.\n",
            "WARNING:matplotlib.font_manager:findfont: Font family 'xkcd Script' not found.\n",
            "WARNING:matplotlib.font_manager:findfont: Font family 'Comic Neue' not found.\n",
            "WARNING:matplotlib.font_manager:findfont: Font family 'Comic Sans MS' not found.\n",
            "WARNING:matplotlib.font_manager:findfont: Font family 'xkcd' not found.\n",
            "WARNING:matplotlib.font_manager:findfont: Font family 'xkcd Script' not found.\n",
            "WARNING:matplotlib.font_manager:findfont: Font family 'Comic Neue' not found.\n",
            "WARNING:matplotlib.font_manager:findfont: Font family 'Comic Sans MS' not found.\n",
            "WARNING:matplotlib.font_manager:findfont: Font family 'xkcd' not found.\n",
            "WARNING:matplotlib.font_manager:findfont: Font family 'xkcd Script' not found.\n",
            "WARNING:matplotlib.font_manager:findfont: Font family 'Comic Neue' not found.\n",
            "WARNING:matplotlib.font_manager:findfont: Font family 'Comic Sans MS' not found.\n",
            "WARNING:matplotlib.font_manager:findfont: Font family 'xkcd' not found.\n",
            "WARNING:matplotlib.font_manager:findfont: Font family 'xkcd Script' not found.\n",
            "WARNING:matplotlib.font_manager:findfont: Font family 'Comic Neue' not found.\n",
            "WARNING:matplotlib.font_manager:findfont: Font family 'Comic Sans MS' not found.\n",
            "WARNING:matplotlib.font_manager:findfont: Font family 'xkcd' not found.\n",
            "WARNING:matplotlib.font_manager:findfont: Font family 'xkcd Script' not found.\n",
            "WARNING:matplotlib.font_manager:findfont: Font family 'Comic Neue' not found.\n",
            "WARNING:matplotlib.font_manager:findfont: Font family 'Comic Sans MS' not found.\n"
          ]
        },
        {
          "output_type": "display_data",
          "data": {
            "text/plain": [
              "<Figure size 640x480 with 1 Axes>"
            ],
            "image/png": "[encoded data removed]"
          },
          "metadata": {}
        }
      ]
    },
    {
      "cell_type": "markdown",
      "source": [
        "No programa acima, temos que destacar 2 pontos:\n",
        "\n",
        "1) A função linspace, essa função retorna um vetor e a construção genérica dele é linspace(a,b,n), onde ele gera uma vetor no intervalo [a,b] e com n pontos;\n",
        "\n",
        "2) Quando utilizo t como vetor a função da altura y(t) torna-se também um vetor."
      ],
      "metadata": {
        "id": "vFtBnxS0nKR4"
      }
    },
    {
      "cell_type": "code",
      "source": [
        "import matplotlib.pyplot as plt\n",
        "def plotex(cxs,cys,dxs,dys):\n",
        "    plt.xlabel('x', fontsize=20)\n",
        "    plt.ylabel('$f(x)$', fontsize=20)\n",
        "    plt.plot(cxs, cys, 'r-', label='$x^2$')\n",
        "    plt.plot(dxs, dys, 'b--^', label='outra função')\n",
        "    plt.legend()\n",
        "    plt.show()\n",
        "\n",
        "cxs=[0.1*i for i in range(60)]\n",
        "cys=[x**2 for x in cxs]\n",
        "dxs=[i for i in range(7)]\n",
        "dys = [x**1.8 - 0.5 for x in dxs]\n",
        "plotex(cxs, cys, dxs, dys)"
      ],
      "metadata": {
        "colab": {
          "base_uri": "https://localhost:8080/",
          "height": 463
        },
        "id": "Z_QPheVnqNdE",
        "outputId": "7ac01c47-10c0-43c5-d908-165a667b3fa5"
      },
      "execution_count": 1,
      "outputs": [
        {
          "output_type": "display_data",
          "data": {
            "text/plain": [
              "<Figure size 640x480 with 1 Axes>"
            ],
            "image/png": "[encoded data removed]"
          },
          "metadata": {}
        }
      ]
    },
    {
      "cell_type": "markdown",
      "source": [
        "| Cor |    | Estilos | Descrição |\n",
        "|:-----------:|:---------:|:-----------:|:-------------:|\n",
        "| ‘b’       | azul    | ‘-’       | sólido      |\n",
        "| ‘g’       | verde   | ‘--’      | traçado      |\n",
        "| ‘r’       | vermelho     | ‘-.’      | traço-ponto   |\n",
        "| ‘c’       | ciano    | ‘:’       | pontilhado     |\n",
        "| ‘m’       | magenta | ‘o’       | círculo      |\n",
        "| ‘y’       | amarelo  | ‘s’       | quadrado      |\n",
        "| ‘k’       | preto   | ‘D’       | losango     |\n",
        "| ‘w’       | branco   | ‘ˆ’       | triangulo (para cima) |"
      ],
      "metadata": {
        "id": "WOPDJk6NtOMH"
      }
    },
    {
      "cell_type": "code",
      "source": [
        "import numpy as np\n",
        "import matplotlib.pyplot as plt\n",
        "\n",
        "plt.style.use(\"seaborn-poster\")\n",
        "#plt.style.use(\"dark_background\")\n",
        "#plt.style.use(\"grayscale\")\n",
        "\n",
        "#parametros\n",
        "#v0 = 5\n",
        "#g = 9.81\n",
        "#criar pontos discetros  no dominio (eixo x)\n",
        "#grafico \"suave\"\n",
        "#t = np.linspace(0, 1, 1001) # (inicio, fim, quantidades de pontos do vetor)\n",
        "#grafico discreto\n",
        "#t = np.linspace(0, 1, 11)\n",
        "#y = f(x)\n",
        "#y = v0*t - 0.5*g*t**2\n",
        "## criar o gráfico \"suave\"\n",
        "#plt.plot(y, 'k')\n",
        "#plt.xlabel('indice do vetor y')\n",
        "#plt.figure()\n",
        "#plt.plot(y, 'r--')\n",
        "#plt.xlabel('indice do vetor y')\n",
        "#plt.figure()\n",
        "#plt.plot(y, 'g:')\n",
        "#plt.xlabel('indice do vetor y')\n",
        "#===========================================\n",
        "#plt.plot(t, y) # criar o plot(x,y)\n",
        "#plt.xlabel('t (s)')\n",
        "#plt.ylabel('y (m)')\n",
        "#plt.show()\n",
        "#===============================================\n",
        "#Criar grafico discreto\n",
        "#plt.plot(t, y, '*')\n",
        "#plt.xlabel('t (s)')\n",
        "#plt.ylabel('y (m)')\n",
        "#plt.legend(['v0*t - 0.5*g*t**2'])\n",
        "#plt.title('Movimento Vertical')\n",
        "#\n",
        "#plt.figure()\n",
        "#plt.plot(t, y, 'r*')\n",
        "#plt.xlabel('t (s)')\n",
        "#plt.ylabel('y (m)')\n",
        "#plt.legend(['v0*t - 0.5*g*t**2'])\n",
        "#plt.title('Movimento Vertical')\n",
        "#\n",
        "#plt.figure()\n",
        "#plt.plot(t, y, 'g+')\n",
        "#plt.xlabel('t (s)')\n",
        "#plt.ylabel('y (m)')\n",
        "##\"Decorar o gráfico\"\n",
        "#plt.legend(['v0*t - 0.5*g*t**2'])\n",
        "#plt.title('Movimento Vertical')\n",
        "# Defifinir o intervalo do eixo x e do eixo y\n",
        "#plt.axis([0, 1.2, -0.2, 1.5])#[xmin, xmax, ymin, ymax]\n",
        "#==========================================================\n",
        "# Mais de um gráfico\n",
        "#t = np.linspace(-2, 2, 100)\n",
        "#f = t**2\n",
        "#g = np.exp(t)\n",
        "#plt.plot(t, f, 'r', t, g, 'b--')\n",
        "#plt.xlabel('t')\n",
        "#plt.ylabel('f e g')\n",
        "#plt.legend(['t**2', 'e**t'])\n",
        "#plt.title('Gráfico de duas funções (t**2 e e**t)')\n",
        "#plt.grid('on')\n",
        "#plt.axis([-3, 3, -1, 10])\n",
        "#plt.show()\n",
        "#=============================================================\n",
        "#Plotar Multiplos  gráficos numa FIGURA\n",
        "#    |------------------|\n",
        "#    |\n",
        "#    |------------------|\n",
        "#\n",
        "plt.subplot(2, 1, 1)# 2 linhas, 1 coluna, \"plotar\" numero 1\n",
        "v0 = 5\n",
        "g = 9.81\n",
        "t = np.linspace(0, 1, 11)\n",
        "y = v0*t - 0.5*g*t**2\n",
        "plt.plot(t, y, '*')\n",
        "plt.xlabel('t (s)')\n",
        "plt.ylabel('y (m)')\n",
        "plt.title('Movimento Vertical')\n",
        "#=====================================================\n",
        "plt.subplot(2, 1, 2)# 2 linhas, 1 coluna, \"plotar\" numero 2\n",
        "t = np.linspace(-2, 2, 100)\n",
        "f = t**2\n",
        "g = np.exp(t)\n",
        "plt.plot(t, f, 'r', t, g, 'b--')\n",
        "plt.xlabel('t')\n",
        "plt.ylabel('f e g')\n",
        "plt.legend(['$t^2$', '$e^t$'])\n",
        "plt.title('Gráfico de duas funções ($t^2$ e $e^t$)')\n",
        "plt.grid('on')\n",
        "plt.axis([-3, 3, -1, 10])\n",
        "plt.tight_layout()\n",
        "plt.show()\n",
        "#Salvar os Gráficos\n",
        "#plt.savefig('Grafico_Aula03.png')\n",
        "#plt.savefig('Grafico_Aula03.pdf')\n",
        "#plt.savefig('Grafico_Aula03.jpg')#erro no meu caso\n",
        "\n",
        "#plt.savefig('Grafico_Aula03.eps')"
      ],
      "metadata": {
        "colab": {
          "base_uri": "https://localhost:8080/",
          "height": 865
        },
        "id": "sRqlVxrb6vqQ",
        "outputId": "aa2748b5-7928-4a7b-97ef-9752cd5bd817"
      },
      "execution_count": null,
      "outputs": [
        {
          "output_type": "stream",
          "name": "stderr",
          "text": [
            "<ipython-input-1-1814fe4577c7>:4: MatplotlibDeprecationWarning: The seaborn styles shipped by Matplotlib are deprecated since 3.6, as they no longer correspond to the styles shipped by seaborn. However, they will remain available as 'seaborn-v0_8-<style>'. Alternatively, directly use the seaborn API instead.\n",
            "  plt.style.use(\"seaborn-poster\")\n"
          ]
        },
        {
          "output_type": "display_data",
          "data": {
            "text/plain": [
              "<Figure size 1280x880 with 2 Axes>"
            ],
            "image/png": "[encoded data removed]"
          },
          "metadata": {}
        }
      ]
    },
    {
      "cell_type": "markdown",
      "source": [
        "#Erros em pontos flutuantes"
      ],
      "metadata": {
        "id": "V92v08un83ci"
      }
    },
    {
      "cell_type": "markdown",
      "source": [
        "## Pontos flutuantes"
      ],
      "metadata": {
        "id": "l2KSbxNC89ei"
      }
    },
    {
      "cell_type": "markdown",
      "source": [
        "$$ N = M \\times 2^{e} $$\n",
        "\n",
        "A notação cientifica abrange todos os números reais e como sabemos essa quantidade é infinita e isso torna impossível de ser implementado no computador que possui uma quantidade finita de dígitos. A solução foi modificar um pouco a normalização da notação cientifica para um número finito **p** de dígitos para a mantissa e um intervalo para o expoente, ou seja o expoente e possui um valor mínimo ($e_{min}$) e um valor máximo ($e_{max}$).\n",
        "\n",
        "A notação que usaremos é $FP(b,p, e_{min}, e_{max} )$ para nos referir ao número no sistema de ponto flutuante de base b, a qual a mantissa possui p dígitos (na base b) e os expoente estão contidos no intervalo fechado $[ emin, emax ]$, ou seja $r=0$ ou $r=\\pm M \\times b^e$  , onde $b^{-1} ≤ M ≤ 1 - b^{ -p}$.\n",
        "\n",
        "Por exemplo, um número real representado em ponto flutuante $FP(10,4,-99,99)$. Pode ser escrito de uma forma genérica como $r=\\pm (0.d_{-1}d_{-2}d_{-3}d_{-4} \\times 10^e $ onde $-99≤ e ≤ 99$. Observe que essa representação não é capaz de representar o número real $0.1 \\times 10^{100}$ , pois o expoente é igual a $100 > 99$ que é o expoente máximo, quando isso acontece numa modelagem matemática é definido de **overflow**. De maneira semelhante $0.1 \\times 10^{-100}$ , e o motivo é o mesmo $-100<-99$, que é o valor mínimo, essa situação é definida de **underflow**.\n"
      ],
      "metadata": {
        "id": "R1sR8LW-9Cky"
      }
    },
    {
      "cell_type": "code",
      "source": [
        "num = 2.**1021\n",
        "for i in range(3):\n",
        "  num *= 2\n",
        "  print(i, num)\n"
      ],
      "metadata": {
        "colab": {
          "base_uri": "https://localhost:8080/"
        },
        "id": "yrOfX9s9Gl0d",
        "outputId": "50732089-07ec-4e21-dbaa-3cc9d794e39a"
      },
      "execution_count": null,
      "outputs": [
        {
          "output_type": "stream",
          "name": "stdout",
          "text": [
            "0 4.49423283715579e+307\n",
            "1 8.98846567431158e+307\n",
            "2 inf\n"
          ]
        }
      ]
    },
    {
      "cell_type": "code",
      "source": [
        "peq = 1/2**50\n",
        "for i in range(3):\n",
        "  peq/=2\n",
        "  print(i,1+peq, peq)"
      ],
      "metadata": {
        "colab": {
          "base_uri": "https://localhost:8080/"
        },
        "id": "gBCOlIDtH99Z",
        "outputId": "f8ff2628-77f1-4e28-991f-e4f02c228558"
      },
      "execution_count": null,
      "outputs": [
        {
          "output_type": "stream",
          "name": "stdout",
          "text": [
            "0 1.0000000000000004 4.440892098500626e-16\n",
            "1 1.0000000000000002 2.220446049250313e-16\n",
            "2 1.0 1.1102230246251565e-16\n"
          ]
        }
      ]
    },
    {
      "cell_type": "markdown",
      "source": [
        "| Propriedade       |    |   Precisão    |           |\n",
        "|:-------------------:|:------------:|:-------:|:-----------:|\n",
        "|                   | Simples    | Dupla | Estendida |\n",
        "| comprimento total | 32         | 64    | 80        |\n",
        "| bits na mantissa  | 23         | 52    | 64        |\n",
        "| bits no expoente  | 8          | 11    | 15        |\n",
        "| base              | 2          | 2     | 2         |\n",
        "| expoente máximo   | 127        | 1023  | 16383     |\n",
        "| expoente mı́nimo   | -126       | -1022 | -16382    |\n",
        "| maior número      | $\\approx 3.40\\times10^{38}$  | $\\approx 1.80\\times10^{308}$      |   $\\approx 1.19\\times10^{4932}$        |\n",
        "| menor número      | $\\approx 1.18 \\times10^{-38}$ | $\\approx 2.23 \\times10^{-308}$      |     $\\approx 3.36 \\times10^{-4932}$      |\n",
        "| dı́gitos decimais  | 7          | 16    | 19        |"
      ],
      "metadata": {
        "id": "ZvQEgERnCDg6"
      }
    },
    {
      "cell_type": "code",
      "metadata": {
        "colab": {
          "base_uri": "https://localhost:8080/"
        },
        "id": "bgQEkQN5AwxB",
        "outputId": "b24afc86-b639-4de3-b137-34aeac1ece03"
      },
      "source": [
        "import sys\n",
        "#sys.float_info\n",
        "print(sys.float_info.max)\n",
        "print(sys.float_info.min)"
      ],
      "execution_count": null,
      "outputs": [
        {
          "output_type": "stream",
          "name": "stdout",
          "text": [
            "1.7976931348623157e+308\n",
            "2.2250738585072014e-308\n"
          ]
        }
      ]
    },
    {
      "cell_type": "code",
      "metadata": {
        "colab": {
          "base_uri": "https://localhost:8080/"
        },
        "id": "qcNKRsouBRKD",
        "outputId": "68412768-902b-43e2-b886-c2f337ae41d0"
      },
      "source": [
        "eps = sys.float_info.epsilon\n",
        "eps"
      ],
      "execution_count": null,
      "outputs": [
        {
          "output_type": "execute_result",
          "data": {
            "text/plain": [
              "2.220446049250313e-16"
            ]
          },
          "metadata": {},
          "execution_count": 30
        }
      ]
    },
    {
      "cell_type": "code",
      "metadata": {
        "colab": {
          "base_uri": "https://localhost:8080/"
        },
        "id": "1OffwbuMBhVM",
        "outputId": "e958b695-3fe3-4d37-fa17-f36951b92c61"
      },
      "source": [
        "2 + 1.e-16 == 2"
      ],
      "execution_count": null,
      "outputs": [
        {
          "output_type": "execute_result",
          "data": {
            "text/plain": [
              "True"
            ]
          },
          "metadata": {},
          "execution_count": 31
        }
      ]
    },
    {
      "cell_type": "code",
      "source": [
        "1 + eps == 1"
      ],
      "metadata": {
        "colab": {
          "base_uri": "https://localhost:8080/"
        },
        "id": "Er20HaX8FXpx",
        "outputId": "798b184a-2588-45b0-baf1-3e3d847c3a87"
      },
      "execution_count": null,
      "outputs": [
        {
          "output_type": "execute_result",
          "data": {
            "text/plain": [
              "False"
            ]
          },
          "metadata": {},
          "execution_count": 32
        }
      ]
    },
    {
      "cell_type": "code",
      "source": [
        "erro_abs=(np.sqrt(5))**2 - 5\n",
        "erro_abs"
      ],
      "metadata": {
        "colab": {
          "base_uri": "https://localhost:8080/"
        },
        "id": "vStuyRhyFcyY",
        "outputId": "2596c20e-8415-44a6-90f1-06897788ec2c"
      },
      "execution_count": null,
      "outputs": [
        {
          "output_type": "execute_result",
          "data": {
            "text/plain": [
              "8.881784197001252e-16"
            ]
          },
          "metadata": {},
          "execution_count": 35
        }
      ]
    },
    {
      "cell_type": "markdown",
      "source": [
        "## Cancelamento Catastrófico"
      ],
      "metadata": {
        "id": "pJ7T2WlsJHhe"
      }
    },
    {
      "cell_type": "code",
      "source": [
        "0.1 + 0.1 +0.1"
      ],
      "metadata": {
        "colab": {
          "base_uri": "https://localhost:8080/"
        },
        "id": "qkhnotxul1jj",
        "outputId": "b839f7e9-056d-43d5-9eab-28379a583dd6"
      },
      "execution_count": null,
      "outputs": [
        {
          "output_type": "execute_result",
          "data": {
            "text/plain": [
              "0.30000000000000004"
            ]
          },
          "metadata": {},
          "execution_count": 44
        }
      ]
    },
    {
      "cell_type": "code",
      "source": [
        "(0.7 + 0.1) +0.3"
      ],
      "metadata": {
        "colab": {
          "base_uri": "https://localhost:8080/"
        },
        "id": "izWVCh7xmhDg",
        "outputId": "7eb23552-3744-4617-9230-b170bf01f540"
      },
      "execution_count": null,
      "outputs": [
        {
          "output_type": "execute_result",
          "data": {
            "text/plain": [
              "1.0999999999999999"
            ]
          },
          "metadata": {},
          "execution_count": 45
        }
      ]
    },
    {
      "cell_type": "code",
      "source": [
        "0.7 + (0.1 + 0.3)"
      ],
      "metadata": {
        "colab": {
          "base_uri": "https://localhost:8080/"
        },
        "id": "FbFkRSpnmuGA",
        "outputId": "a749f1cc-e934-41ba-e918-44d564b6f275"
      },
      "execution_count": null,
      "outputs": [
        {
          "output_type": "execute_result",
          "data": {
            "text/plain": [
              "1.1"
            ]
          },
          "metadata": {},
          "execution_count": 46
        }
      ]
    },
    {
      "cell_type": "code",
      "source": [
        "x=1.e20; y=-1.e20 ; z = 1.\n",
        "(x+y) + z"
      ],
      "metadata": {
        "colab": {
          "base_uri": "https://localhost:8080/"
        },
        "id": "9TDXn1fCm-PW",
        "outputId": "d62b6c4f-b2bb-4ecf-c4d0-36230d21b3e5"
      },
      "execution_count": null,
      "outputs": [
        {
          "output_type": "execute_result",
          "data": {
            "text/plain": [
              "1.0"
            ]
          },
          "metadata": {},
          "execution_count": 48
        }
      ]
    },
    {
      "cell_type": "code",
      "source": [
        "x + (y +z)"
      ],
      "metadata": {
        "colab": {
          "base_uri": "https://localhost:8080/"
        },
        "id": "V1yM2AgVnUkb",
        "outputId": "872803b9-9397-4aa1-fe34-fc70186b9d4b"
      },
      "execution_count": null,
      "outputs": [
        {
          "output_type": "execute_result",
          "data": {
            "text/plain": [
              "0.0"
            ]
          },
          "metadata": {},
          "execution_count": 49
        }
      ]
    },
    {
      "cell_type": "markdown",
      "source": [
        "$$g(x) = \\dfrac{1}{\\sqrt{x^2 + 1} - x +eps} = \\sqrt{x^2 +1} +x$$"
      ],
      "metadata": {
        "id": "gq5ive01JMmR"
      }
    },
    {
      "cell_type": "code",
      "source": [
        "from math import sqrt\n",
        "def g(x):\n",
        "  return 1/(sqrt(x**2 + 1) - x)\n",
        "xs = [10**i for i in range(4,8)]\n",
        "ys = [g(x) for x in xs]\n",
        "for x, y in zip(xs, ys):\n",
        "  print(x, y)"
      ],
      "metadata": {
        "colab": {
          "base_uri": "https://localhost:8080/"
        },
        "id": "fIfhkbOHHSDZ",
        "outputId": "203ee2f3-4bc8-411b-d3db-9026ff048536"
      },
      "execution_count": null,
      "outputs": [
        {
          "output_type": "stream",
          "name": "stdout",
          "text": [
            "10000 19999.99977764674\n",
            "100000 200000.22333140278\n",
            "1000000 1999984.77112922\n",
            "10000000 19884107.85185185\n"
          ]
        }
      ]
    },
    {
      "cell_type": "code",
      "source": [
        "from math import sqrt\n",
        "def g_m(x):\n",
        "  return (sqrt(x**2 + 1) + x)\n",
        "xs = [10**i for i in range(4,8)]\n",
        "ys = [g_m(x) for x in xs]\n",
        "for x, y in zip(xs, ys):\n",
        "  print(x, y)"
      ],
      "metadata": {
        "colab": {
          "base_uri": "https://localhost:8080/"
        },
        "id": "qu-dnvCt4d43",
        "outputId": "89e0de26-9258-418a-cbf6-bdb769f06c0c"
      },
      "execution_count": null,
      "outputs": [
        {
          "output_type": "stream",
          "name": "stdout",
          "text": [
            "10000 20000.000050000002\n",
            "100000 200000.00000499998\n",
            "1000000 2000000.0000005001\n",
            "10000000 20000000.000000052\n"
          ]
        }
      ]
    }
  ]
}